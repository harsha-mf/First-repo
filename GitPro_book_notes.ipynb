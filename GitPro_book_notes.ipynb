{
  "nbformat": 4,
  "nbformat_minor": 0,
  "metadata": {
    "colab": {
      "provenance": [],
      "authorship_tag": "ABX9TyORdiWtaO2kt6L4uELslwCa",
      "include_colab_link": true
    },
    "kernelspec": {
      "name": "python3",
      "display_name": "Python 3"
    },
    "language_info": {
      "name": "python"
    }
  },
  "cells": [
    {
      "cell_type": "markdown",
      "metadata": {
        "id": "view-in-github",
        "colab_type": "text"
      },
      "source": [
        "<a href=\"https://colab.research.google.com/github/tmharsha12/First-repo/blob/main/GitPro_book_notes.ipynb\" target=\"_parent\"><img src=\"https://colab.research.google.com/assets/colab-badge.svg\" alt=\"Open In Colab\"/></a>"
      ]
    },
    {
      "cell_type": "markdown",
      "source": [
        "# This is a git cheetsheet I created Using the book \" GitPro\"\n",
        "\n",
        "<b>The Three stages</b></br>\n",
        "Git has three main states that your file can reside in :\n",
        "- Moified: you have changed the file but have not committed it to your database yet\n",
        "- Staged: You have marked a modified file in its current version to go into your next commit snapshot.\n",
        "- Committed: Data is safely stored in your local database.\n",
        "\n",
        "<b> The Three Main Sections of Git Project</b>  </br>\n",
        "- Working Directory: It is a single checkout of one version of the project. These files are pulled out of the compressed database in the Git directory on disk for you to use or modify\n",
        "- The Staging Area: This is a file, generally contained in your git directory, that stores information about what will go into your next commit.\n",
        "- The Git Directory: It is where git stores the metadata and object database for your project. This is the most important part of Git, and is copied when you clone a repository from another computer.\n",
        "\n",
        "<b> The basic Git workflow goes something like this:</b>\n",
        "- You modify files in your working tree\n",
        "- you selectifely stage just those changes you want to be part of your next commit, which adds only those changes to the staging area.\n",
        "- You do a commit, which takes the files as they are in staging area and stores that snapshot permanently to your git Directory. \n",
        "\n",
        "\n"
      ],
      "metadata": {
        "id": "ILTZ2DrVrQvk"
      }
    },
    {
      "cell_type": "markdown",
      "source": [
        "Initializing Default Branch Name"
      ],
      "metadata": {
        "id": "wdHaJxjxx7Vj"
      }
    },
    {
      "cell_type": "code",
      "source": [
        "git config --global init.defaultBranch main"
      ],
      "metadata": {
        "id": "7JAZXNAOx_Hl"
      },
      "execution_count": null,
      "outputs": []
    },
    {
      "cell_type": "markdown",
      "source": [
        "Checking Your settings"
      ],
      "metadata": {
        "id": "lI3c0lVxyHMk"
      }
    },
    {
      "cell_type": "code",
      "source": [
        "git config --list"
      ],
      "metadata": {
        "id": "WPyCvPYNyJ_T"
      },
      "execution_count": null,
      "outputs": []
    },
    {
      "cell_type": "markdown",
      "source": [
        "You can check what Git thinks a specific key value is by typing"
      ],
      "metadata": {
        "id": "wslOtuAn-C9m"
      }
    },
    {
      "cell_type": "code",
      "source": [
        "git config <key>\n",
        "#for example:\n",
        "$ git config user.name\n",
        "Harsha"
      ],
      "metadata": {
        "id": "6_Ii57L8-Sba"
      },
      "execution_count": null,
      "outputs": []
    },
    {
      "cell_type": "markdown",
      "source": [
        "<h3> Getting Help </h3>\n"
      ],
      "metadata": {
        "id": "MoJTXR26-shl"
      }
    },
    {
      "cell_type": "code",
      "source": [
        "git help <verb>\n",
        "git <verb> --help\n",
        "man git-<verb>\n",
        "#all above are equivalent\n",
        "#for example:\n",
        "git help add"
      ],
      "metadata": {
        "id": "h9cNm83A-4Q0"
      },
      "execution_count": null,
      "outputs": []
    },
    {
      "cell_type": "markdown",
      "source": [
        "<h3> Shorter version of Help</h3>\n"
      ],
      "metadata": {
        "id": "OtWOIc1b_2AO"
      }
    },
    {
      "cell_type": "code",
      "source": [
        "git <verb> -h"
      ],
      "metadata": {
        "id": "PZdHEILj_9qt"
      },
      "execution_count": null,
      "outputs": []
    },
    {
      "cell_type": "markdown",
      "source": [
        "# Git Basics\n",
        "## Getting a Git Repository:\n",
        "You typically obtain a git repository in two ways:\n",
        "- You can take a local directory that is currently not under version contrl, and turn it into a Git repository, or\n",
        "- You can clone an existing Git repository from elsewhere"
      ],
      "metadata": {
        "id": "pWPou4X2BjPG"
      }
    },
    {
      "cell_type": "markdown",
      "source": [
        "## Initializing a Repository in an Existing Directory"
      ],
      "metadata": {
        "id": "GLRSNI2hCqfR"
      }
    },
    {
      "cell_type": "code",
      "source": [
        "cd /home/user/my_project\n",
        "git init\n",
        "\"\"\" This Creates a new subdirectory named .git that contains all your necessary\n",
        "repository files --- a Git repository skeleton.\n",
        "\"\"\""
      ],
      "metadata": {
        "id": "DG8a6BVwC0RO"
      },
      "execution_count": null,
      "outputs": []
    },
    {
      "cell_type": "markdown",
      "source": [
        "## Start Version-Controlling existing files:"
      ],
      "metadata": {
        "id": "c3dSGGwlDUj9"
      }
    },
    {
      "cell_type": "code",
      "source": [
        "git add *.c\n",
        "git add LISCENSE\n",
        "git commit -m 'Initial project version'\n",
        "\"\"\" At this point, you have a Git repository with tracked files and an initial commit\n",
        "\"\"\""
      ],
      "metadata": {
        "id": "6bmMuWQ2Dh2B"
      },
      "execution_count": null,
      "outputs": []
    }
  ]
}