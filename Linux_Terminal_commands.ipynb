{
  "nbformat": 4,
  "nbformat_minor": 0,
  "metadata": {
    "colab": {
      "provenance": [],
      "authorship_tag": "ABX9TyO+IT9z2GC/KGDJREfNnxjD",
      "include_colab_link": true
    },
    "kernelspec": {
      "name": "python3",
      "display_name": "Python 3"
    },
    "language_info": {
      "name": "python"
    }
  },
  "cells": [
    {
      "cell_type": "markdown",
      "metadata": {
        "id": "view-in-github",
        "colab_type": "text"
      },
      "source": [
        "<a href=\"https://colab.research.google.com/github/tmharsha12/First-repo/blob/main/Linux_Terminal_commands.ipynb\" target=\"_parent\"><img src=\"https://colab.research.google.com/assets/colab-badge.svg\" alt=\"Open In Colab\"/></a>"
      ]
    },
    {
      "cell_type": "markdown",
      "source": [
        "###Create a new file in linux teminal"
      ],
      "metadata": {
        "id": "L38cPoJfbTBo"
      }
    },
    {
      "cell_type": "code",
      "source": [
        "#To create a new file in Linux terminal:\n",
        "touch <file_name>\n",
        "\n",
        "#Example:\n",
        "$ touch example.txt\n",
        "\n",
        "#Working:\n",
        "Creates an empty file with the specified name in the current directory.\n"
      ],
      "metadata": {
        "id": "8BJWsPJ2bXeg"
      },
      "execution_count": null,
      "outputs": []
    },
    {
      "cell_type": "markdown",
      "source": [
        "### Read the text file in a terminal"
      ],
      "metadata": {
        "id": "J-1OcvcJbZnR"
      }
    },
    {
      "cell_type": "code",
      "source": [
        "#To read a text file in Linux terminal:\n",
        "cat <file_name>\n",
        "\n",
        "#Example:\n",
        "$ cat example.txt\n",
        "\n",
        "#Working:\n",
        "Displays the content of the specified file in the terminal.\n"
      ],
      "metadata": {
        "id": "0xTwKnmebd0K"
      },
      "execution_count": null,
      "outputs": []
    },
    {
      "cell_type": "markdown",
      "source": [
        "### Write to a text file in a terminal(Overwrite)"
      ],
      "metadata": {
        "id": "22glYlHzbflA"
      }
    },
    {
      "cell_type": "code",
      "source": [
        "#To write to a text file in Linux terminal:\n",
        "echo <text> > <file_name>\n",
        "\n",
        "#Example:\n",
        "$ echo \"Hello World\" > example.txt\n",
        "\n",
        "#Working:\n",
        "Writes the specified text to the specified file. The \">\" operator overwrites the file if it exists, otherwise it creates a new file.\n"
      ],
      "metadata": {
        "id": "rHF6JSi5bl5Y"
      },
      "execution_count": null,
      "outputs": []
    },
    {
      "cell_type": "markdown",
      "source": [
        "### append text to a file in terminal"
      ],
      "metadata": {
        "id": "B1i88SjrbrQH"
      }
    },
    {
      "cell_type": "code",
      "source": [
        "#To append to an existing file in Linux terminal:\n",
        "echo <text> >> <file_name>\n",
        "\n",
        "#Example:\n",
        "$ echo \"Hello Again\" >> example.txt\n",
        "\n",
        "#Working:\n",
        "Appends the specified text to the end of the specified file. The \">>\" operator does not overwrite the file, instead it adds the new text to the end of the existing content.\n"
      ],
      "metadata": {
        "id": "m4CpALBlbu1r"
      },
      "execution_count": null,
      "outputs": []
    },
    {
      "cell_type": "markdown",
      "source": [
        "### Removing a file"
      ],
      "metadata": {
        "id": "KwnqBDhGb_VF"
      }
    },
    {
      "cell_type": "code",
      "source": [
        "#To delete a file in Linux terminal:\n",
        "rm <file_name>\n",
        "\n",
        "#Example:\n",
        "$ rm example.txt\n",
        "\n",
        "#Working:\n",
        "Deletes the specified file from the current directory. Use caution as this action is permanent and cannot be undone.\n"
      ],
      "metadata": {
        "id": "tFJeca5HcCQX"
      },
      "execution_count": null,
      "outputs": []
    },
    {
      "cell_type": "markdown",
      "source": [
        "Moving a file to specific location"
      ],
      "metadata": {
        "id": "srj8VrkGcNgs"
      }
    },
    {
      "cell_type": "code",
      "source": [
        "#To move a file to a specific location in Linux terminal:\n",
        "mv <source_file> <destination_path>\n",
        "\n",
        "#Example:\n",
        "$ mv example.txt ~/Documents/\n",
        "\n",
        "#Working:\n",
        "Moves the specified source file to the specified destination path. This can also be used to rename a file by specifying a new name as the destination.\n"
      ],
      "metadata": {
        "id": "4pbcxmmncQ0y"
      },
      "execution_count": null,
      "outputs": []
    },
    {
      "cell_type": "markdown",
      "source": [
        "### To check if a file with the same name exists before moving in Linux terminal: (Interactively move)\n"
      ],
      "metadata": {
        "id": "LQmtsDKqcn_8"
      }
    },
    {
      "cell_type": "code",
      "source": [
        "#To check if a file with the same name exists before moving in Linux terminal:\n",
        "mv -i <source_file> <destination_path>\n",
        "\n",
        "#Example:\n",
        "$ mv -i example.txt ~/Documents/\n",
        "\n",
        "#Working:\n",
        "Interactively moves the source file to the destination path. If a file with the same name exists in the destination, it will prompt you for confirmation before overwriting it.\n"
      ],
      "metadata": {
        "id": "fRsF3Ubpcxsd"
      },
      "execution_count": null,
      "outputs": []
    },
    {
      "cell_type": "markdown",
      "source": [
        "# Some other useful commands. I'll modify them later:"
      ],
      "metadata": {
        "id": "LggNg8u-dLpy"
      }
    },
    {
      "cell_type": "code",
      "source": [
        "#Change the current working directory:\n",
        "cd <directory_path>\n",
        "\n",
        "#Display the contents of a directory:\n",
        "ls [<directory_path>]\n",
        "\n",
        "#Create a new directory:\n",
        "mkdir <directory_name>\n",
        "\n",
        "#Remove a directory (with its contents):\n",
        "rm -r <directory_name>\n",
        "\n",
        "#Copy a file or directory:\n",
        "cp <source_path> <destination_path>\n",
        "\n",
        "#Display the contents of a file page by page:\n",
        "less <file_name>\n",
        "\n",
        "#Search for a pattern in a file:\n",
        "grep <pattern> <file_name>\n",
        "\n",
        "#Print the current working directory:\n",
        "pwd\n",
        "\n",
        "#Display system information:\n",
        "uname -a\n",
        "\n",
        "#Display the current environment variables:\n",
        "env\n",
        "\n",
        "#Execute a command as the superuser (root):\n",
        "sudo <command>\n"
      ],
      "metadata": {
        "id": "1bfWWeGvdQvj"
      },
      "execution_count": null,
      "outputs": []
    }
  ]
}